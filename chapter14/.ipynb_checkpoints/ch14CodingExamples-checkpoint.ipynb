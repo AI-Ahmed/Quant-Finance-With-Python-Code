{
 "cells": [
  {
   "cell_type": "code",
   "execution_count": 84,
   "id": "7d567516-5421-4be2-8a1e-31fdea4deb79",
   "metadata": {},
   "outputs": [
    {
     "name": "stdout",
     "output_type": "stream",
     "text": [
      "(10783.127256397074, 8.077309612549389, 74.43663391133654)\n",
      "7289.16720772556\n",
      "12.620440119873333\n",
      "7.572971579513727\n"
     ]
    }
   ],
   "source": [
    "import math\n",
    "\n",
    "def bond_price_dur_conv(C,P,y,mat,coupon_frequency):\n",
    "    \n",
    "    B = 0\n",
    "    duration_sum = 0\n",
    "    convexity_sum = 0\n",
    "\n",
    "    total_payments = coupon_frequency * mat\n",
    "    \n",
    "    for payment in range(1,total_payments+1):\n",
    "        \n",
    "        payment_time = payment/coupon_frequency\n",
    "            \n",
    "        B +=  C * math.exp(-y * payment_time)\n",
    "        duration_sum += C * payment_time* math.exp(-y * payment_time)\n",
    "        convexity_sum += C * payment_time**2 * math.exp(-y * payment_time)\n",
    "        \n",
    "          \n",
    "    B += P * math.exp(-y* mat)\n",
    "    duration_sum += P * mat * math.exp(-y * mat)\n",
    "    convexity_sum += P * mat**2 * math.exp(-y * mat)\n",
    "    \n",
    "    \n",
    "    ###convention is to report duration as a positive number\n",
    "    duration = -(-1/B * duration_sum)\n",
    "    convexity = 1/B * convexity_sum\n",
    "    \n",
    "    return B,duration,convexity\n",
    "\n",
    "def risky_bond_price(C,P,y,lamb, mat,coupon_frequency, recov):\n",
    "    B = 0\n",
    "    total_payments = coupon_frequency * mat\n",
    "    for payment in range(1,total_payments+1):\n",
    "        \n",
    "        payment_time = payment/coupon_frequency\n",
    "        \n",
    "        #no-default case\n",
    "        B +=  C * math.exp(-y * payment_time) * math.exp(-lamb * payment_time) \n",
    "        \n",
    "        #default case\n",
    "        B += recov * math.exp(-y * payment_time) * math.exp(-lamb * payment_time) * lamb\n",
    "          \n",
    "    B += P * math.exp(-y* mat) * math.exp(-lamb * mat)\n",
    "        \n",
    "    return B\n",
    "\n",
    "def risky_bond_cs01(C,P,y,lamb, mat,coupon_frequency, recov):\n",
    "    delta_lamb = 1 / 10000.0\n",
    "    dsprd = delta_lamb * (1 - recov)\n",
    "\n",
    "    px = risky_bond_price(C,P,y, lamb,mat,coupon_frequency, recov)\n",
    "    px_up = risky_bond_price(C,P,y, lamb + delta_lamb,mat,coupon_frequency, recov)\n",
    "    px_dn = risky_bond_price(C,P,y, lamb - delta_lamb,mat,coupon_frequency, recov)\n",
    "    dur = (px_up - px_dn) / (2*dsprd)\n",
    "\n",
    "    return (-dur/px)\n",
    "\n",
    "def risky_bond_ir01(C,P,y,lamb, mat,coupon_frequency, recov):\n",
    "    delta_y = 1 / 10000.0\n",
    "    px = risky_bond_price(C,P,y, lamb,mat,coupon_frequency, recov)\n",
    "    px_up = risky_bond_price(C,P,y + delta_y, lamb,mat,coupon_frequency, recov)\n",
    "    px_dn = risky_bond_price(C,P,y - delta_y, lamb,mat,coupon_frequency, recov)\n",
    "    dur = (px_up - px_dn) / (2*delta_y) \n",
    "    return (-dur/px)\n",
    "\n",
    "print(bond_price_dur_conv(0.05/2*10000,10000,0.04,10,2))\n",
    "\n",
    "print(risky_bond_price(0.05/2*10000,10000,0.04, 0.05,10,2, 0.4))\n",
    "print(risky_bond_cs01(0.05/2*10000,10000,0.04, 0.05,10,2, 0.4))\n",
    "print(risky_bond_ir01(0.05/2*10000,10000,0.04, 0.05,10,2, 0.4))"
   ]
  },
  {
   "cell_type": "code",
   "execution_count": 32,
   "id": "b580affb-dc1d-4087-91ab-e3dd9394cc74",
   "metadata": {},
   "outputs": [
    {
     "data": {
      "text/plain": [
       "0.036218826498399574"
      ]
     },
     "execution_count": 32,
     "metadata": {},
     "output_type": "execute_result"
    }
   ],
   "source": [
    "from scipy.stats import norm\n",
    "\n",
    "def payer_swaption(F,sigma,t,K, swapT, rf, const_lamb, coupon_frequency):\n",
    "    d1 = (math.log(F/K) + 0.5*sigma**2*t)/(sigma * math.sqrt(t))\n",
    "    d2 = (math.log(F/K) - 0.5*sigma**2*t)/(sigma * math.sqrt(t))\n",
    "\n",
    "    ra = 0.0\n",
    "    matT = swapT + t\n",
    "    total_payments = int(coupon_frequency * (matT - t))\n",
    "    for payment in range(1,total_payments+1):\n",
    "        payment_time = payment/coupon_frequency\n",
    "        ra += math.exp(-rf * payment_time) * math.exp(-const_lamb * payment_time) \n",
    "\n",
    "    swn_px = ra * (F * norm.cdf(d1) - K * norm.cdf(d2))       \n",
    "    return swn_px\n",
    "\n",
    "payer_swaption(500.0/10000.0, 0.2, 1.0, 500.0 / 10000.0, 5.0, 0.01, 0.025, 2)"
   ]
  },
  {
   "cell_type": "code",
   "execution_count": 120,
   "id": "fbb0f9f5-ffc2-490d-9b97-60b703319160",
   "metadata": {},
   "outputs": [
    {
     "name": "stdout",
     "output_type": "stream",
     "text": [
      "1.0839266664167226\n",
      "(0.06909724948010558, 1209.2683054654321)\n"
     ]
    },
    {
     "name": "stderr",
     "output_type": "stream",
     "text": [
      "/var/folders/m2/1pbsjvss7cbc_n95rbg7ctqm0000gn/T/ipykernel_55581/1116239845.py:8: RuntimeWarning: divide by zero encountered in double_scalars\n",
      "  d1 = (math.log(A/L) + r + 0.5*sigmaAssetsHat**2*t)/(sigmaAssetsHat * math.sqrt(t))\n",
      "/var/folders/m2/1pbsjvss7cbc_n95rbg7ctqm0000gn/T/ipykernel_55581/1116239845.py:9: RuntimeWarning: divide by zero encountered in double_scalars\n",
      "  d2 = (math.log(A/L) + r - 0.5*sigmaAssetsHat**2*t)/(sigmaAssetsHat * math.sqrt(t))\n"
     ]
    },
    {
     "name": "stdout",
     "output_type": "stream",
     "text": [
      "Iteration limit reached\n",
      "[3.40366881e-02 5.08081710e+02]\n",
      "4.3025910321487466e-08\n",
      "(508.0817826538505, 0.03403668814468898, 0.7878383754281955, 0.7846043745296919, 0.024257566973192465, 0.014554540183915478)\n"
     ]
    }
   ],
   "source": [
    "from scipy.stats import norm\n",
    "from scipy.optimize import minimize, Bounds, LinearConstraint\n",
    "\n",
    "def solveForSigmaAssetsAndValueOfEquity(params, A, L, sigmaEq, t, r):\n",
    "        sigmaAssetsHat = params[0]\n",
    "        EHat = params[1]\n",
    "        \n",
    "        d1 = (math.log(A/L) + r + 0.5*sigmaAssetsHat**2*t)/(sigmaAssetsHat * math.sqrt(t))\n",
    "        d2 = (math.log(A/L) + r - 0.5*sigmaAssetsHat**2*t)/(sigmaAssetsHat * math.sqrt(t))\n",
    "    \n",
    "        sigmaAssetsError = (sigmaAssetsHat - sigmaEq * norm.cdf(d1) * (EHat / A))**2\n",
    "        eError = (EHat - (A * norm.cdf(d1) - L * math.exp(-r*t) * norm.cdf(d2)))**2\n",
    "        \n",
    "        return (sigmaAssetsError + eError)\n",
    "\n",
    "A = 3180.23\n",
    "L = 2933.99\n",
    "sigmaEq = 0.26\n",
    "t = 10.0\n",
    "r = 0.01\n",
    "recov = 0.4\n",
    "\n",
    "print(A/L)\n",
    "\n",
    "d1_0 = (math.log(A/L) + r + 0.5*sigmaEq**2*t)/(sigmaEq * math.sqrt(t))\n",
    "d2_0 = (math.log(A/L) + r - 0.5*sigmaEq**2*t)/(sigmaEq * math.sqrt(t))\n",
    "E0 = (A * norm.cdf(d1_0) - L * math.exp(-r*t) * norm.cdf(d2_0))\n",
    "sigmaAsset0 = sigmaEq * norm.cdf(d1_0) * (E0 / A)\n",
    "\n",
    "guess = (sigmaAsset0, E0)\n",
    "print(guess)\n",
    "\n",
    "res = minimize(solveForSigmaAssetsAndValueOfEquity,\n",
    "               x0 = guess,\n",
    "               bounds  = ((0.0, None),(0.0, None)),\n",
    "         \t   args = (A, L, sigmaEq, t, r), \n",
    "         \t   tol = 1e-10,\n",
    "         \t   method = 'SLSQP',\n",
    "         \t   options={'maxiter': 2500, 'ftol': 1e-14})\n",
    "\n",
    "print(res.message)\n",
    "print(res['x'])\n",
    "print(solveForSigmaAssetsAndValueOfEquity(res['x'], A, L, sigmaEq, t, r))\n",
    "\n",
    "def merton_model(A, L, sigmaAssets, t, r, recov):\n",
    "\n",
    "    d1 = (math.log(A/L) + r + 0.5*sigmaAssets**2*t)/(sigmaAssets * math.sqrt(t))\n",
    "    d2 = (math.log(A/L) + r - 0.5*sigmaAssets**2*t)/(sigmaAssets * math.sqrt(t))\n",
    "\n",
    "    E = A * norm.cdf(d1) - L * math.exp(-r*t) * norm.cdf(d2)\n",
    "    \n",
    "    DD = (math.log(A/L) + (r - 0.5*sigmaAssets**2*t)) / (sigmaAssets * math.sqrt(t))\n",
    "    psurv = norm.cdf(DD)\n",
    "    lamb = -math.log(psurv)/t\n",
    "    spread = lamb * (1 - recov)\n",
    "\n",
    "    return E, sigmaAssets, DD, psurv, lamb, spread\n",
    "\n",
    "print(merton_model(A, L, res['x'][0], t, r, recov))\n"
   ]
  },
  {
   "cell_type": "code",
   "execution_count": 71,
   "id": "03914874-306b-4ccf-aa95-8fc012040655",
   "metadata": {},
   "outputs": [
    {
     "data": {
      "text/plain": [
       "array([ 0.04626856, 10.78885518])"
      ]
     },
     "execution_count": 71,
     "metadata": {},
     "output_type": "execute_result"
    }
   ],
   "source": [
    "res"
   ]
  },
  {
   "cell_type": "code",
   "execution_count": 6,
   "id": "c59e5a1b-3829-4db0-872c-b540bca3f94b",
   "metadata": {},
   "outputs": [
    {
     "name": "stdout",
     "output_type": "stream",
     "text": [
      "[2.57707901e-01 6.00201645e-02 3.77328427e-02 2.85751007e-02\n",
      " 2.34621730e-02 2.01576451e-02 1.78290122e-02 1.60915225e-02\n",
      " 1.47414405e-02 1.36602187e-02 1.27739194e-02 1.20339010e-02\n",
      " 1.14067816e-02 1.08688511e-02 1.04027845e-02 9.99561697e-03\n",
      " 9.63744879e-03 9.32058944e-03 9.03897566e-03 8.78776641e-03\n",
      " 8.56305479e-03 8.36165938e-03 8.18097070e-03 8.01883663e-03\n",
      " 7.87347599e-03 7.74341270e-03 7.62742548e-03 7.52450926e-03\n",
      " 7.43384584e-03 7.35478190e-03 7.28681321e-03 7.22957420e-03\n",
      " 7.18283260e-03 7.14648926e-03 7.12058379e-03 7.10530738e-03\n",
      " 7.10102529e-03 7.10831268e-03 7.12800983e-03 7.16130410e-03\n",
      " 7.20984794e-03 7.27592078e-03 7.36263646e-03 7.47418216e-03\n",
      " 7.61604658e-03 7.79515152e-03 8.01974833e-03 8.29889130e-03\n",
      " 8.64128161e-03 9.05332220e-03 9.53636802e-03 1.00834093e-02\n",
      " 1.06757560e-02 1.12806107e-02 1.18505950e-02 1.23261803e-02\n",
      " 1.26414932e-02 1.27331418e-02 1.25507381e-02 1.20669789e-02\n",
      " 1.12848375e-02 1.02398066e-02 8.99622136e-03 7.63817530e-03\n",
      " 6.25696317e-03 4.93786071e-03 3.74910189e-03 2.73514416e-03\n",
      " 1.91502895e-03 1.28530155e-03 8.25974844e-04 5.07638818e-04\n",
      " 2.98024584e-04 1.66925816e-04 8.90859126e-05 4.52394122e-05\n",
      " 2.18281522e-05 9.99155042e-06 4.33146253e-06 1.77512530e-06\n",
      " 6.86357134e-07 2.49831327e-07 8.54022073e-08 2.73432823e-08\n",
      " 8.17502169e-09 2.27467491e-09 5.86791217e-10 1.39729836e-10\n",
      " 3.05602370e-11 6.10311046e-12 1.10532139e-12 1.80055701e-13\n",
      " 2.61206145e-14 3.33322703e-15 3.68343886e-16 3.45330868e-17\n",
      " 2.67065007e-18 1.63572304e-19 7.43917702e-21 2.23331107e-22\n",
      " 3.31957826e-24]\n",
      "0.999999497938336\n"
     ]
    },
    {
     "data": {
      "text/plain": [
       "[<matplotlib.lines.Line2D at 0x7fa889837280>]"
      ]
     },
     "execution_count": 6,
     "metadata": {},
     "output_type": "execute_result"
    },
    {
     "data": {
      "image/png": "[encoded data removed]",
      "text/plain": [
       "<Figure size 432x288 with 1 Axes>"
      ]
     },
     "metadata": {
      "needs_background": "light"
     },
     "output_type": "display_data"
    }
   ],
   "source": [
    "import numpy as np\n",
    "import math\n",
    "from scipy.stats import norm\n",
    "import matplotlib.pyplot as plt\n",
    "\n",
    "spread = 500.0 / 10000.0\n",
    "recov = 0.4\n",
    "tau = 5.0\n",
    "N = 100\n",
    "M = 200\n",
    "rho = 0.9\n",
    "\n",
    "def index_loss_distr(N, M, rho, spread, recov, tau):\n",
    "    implied_lambda = spread / (1 - recov)\n",
    "    surv_prob = math.exp(-implied_lambda * tau)\n",
    "    def_prob = 1 - surv_prob\n",
    "    C = norm.ppf(def_prob)\n",
    "\n",
    "    fLs = np.zeros(N+1)\n",
    "\n",
    "    for ii in range(M+1):\n",
    "        Zi = -5.0 + ii * (10 / M)\n",
    "        phiZ = norm.pdf(Zi) \n",
    "        dz = 10 / M\n",
    "    \n",
    "        for n in range(N+1):\n",
    "            innerNumer = C - rho*Zi\n",
    "            innerDenom = np.sqrt(1 - rho**2)\n",
    "            innerTerm = innerNumer / innerDenom\n",
    "\n",
    "            pLCondZ = (1 - recov) * norm.cdf(innerTerm)\n",
    "            fLCondZ = (math.factorial(N) / (math.factorial(n) * math.factorial(N-n))) *pLCondZ**n * (1-pLCondZ)**(N-n)\n",
    "            fLs[n] += fLCondZ * phiZ * dz\n",
    "\n",
    "    return fLs\n",
    "\n",
    "fLs = index_loss_distr(N, M, rho, spread, recov, tau)\n",
    "print(fLs)\n",
    "print(fLs.sum())\n",
    "plt.plot(fLs)"
   ]
  },
  {
   "cell_type": "code",
   "execution_count": 173,
   "id": "3c40099c-9187-4ec2-818b-aa1b153e4d08",
   "metadata": {},
   "outputs": [
    {
     "data": {
      "text/plain": [
       "[<matplotlib.lines.Line2D at 0x7fe2dcda68b0>]"
      ]
     },
     "execution_count": 173,
     "metadata": {},
     "output_type": "execute_result"
    },
    {
     "data": {
      "image/png": "[encoded data removed]",
      "text/plain": [
       "<Figure size 432x288 with 1 Axes>"
      ]
     },
     "metadata": {
      "needs_background": "light"
     },
     "output_type": "display_data"
    }
   ],
   "source": [
    "import matplotlib.pyplot as plt\n",
    "plt.plot(fLs)"
   ]
  },
  {
   "cell_type": "code",
   "execution_count": 151,
   "id": "57a6d477-2d06-4b22-b535-040102378238",
   "metadata": {},
   "outputs": [
    {
     "name": "stdout",
     "output_type": "stream",
     "text": [
      "0.3989422804014327\n"
     ]
    },
    {
     "data": {
      "text/plain": [
       "1.1653090127262227e-10"
      ]
     },
     "execution_count": 151,
     "metadata": {},
     "output_type": "execute_result"
    }
   ],
   "source": [
    "Zi = 0.0\n",
    "dz = norm.pdf(Zi)\n",
    "print(dz)\n",
    "\n",
    "n = 0\n",
    "innerNumer = C - rho*Zi\n",
    "innerDenom = np.sqrt(1 - rho**2)\n",
    "innerTerm = innerNumer / innerDenom\n",
    "\n",
    "pLCondZ = (1 - recov) * norm.cdf(innerTerm)\n",
    "fLCondZ = (math.factorial(N) / (math.factorial(n) * math.factorial(N-n))) *pLCondZ**n * (1-pLCondZ)**(N-n)\n",
    "fLCondZ"
   ]
  },
  {
   "cell_type": "code",
   "execution_count": 137,
   "id": "fab56530-5f59-4200-8568-c19c18b5e983",
   "metadata": {},
   "outputs": [],
   "source": [
    "fLCondZ = (math.factorial(N) / math.factorial(n) * math.factorial(N-n)) *pLCondZ**n * (1-pLCondZ)**(N-n)"
   ]
  },
  {
   "cell_type": "code",
   "execution_count": null,
   "id": "c32905e1-b1a7-4e1d-8950-2c3dcfb2211a",
   "metadata": {},
   "outputs": [],
   "source": []
  },
  {
   "cell_type": "code",
   "execution_count": null,
   "id": "a7b06ea3-7831-4316-9b7b-8c356727292b",
   "metadata": {},
   "outputs": [],
   "source": []
  },
  {
   "cell_type": "code",
   "execution_count": null,
   "id": "a9203b2d-c53f-42f0-938a-1dc49e29c944",
   "metadata": {},
   "outputs": [],
   "source": []
  },
  {
   "cell_type": "code",
   "execution_count": 1,
   "id": "0a305f64-9d5c-4d11-b17c-8ad8ccc03ed1",
   "metadata": {},
   "outputs": [
    {
     "data": {
      "text/plain": [
       "     fun: 5.825866405750717e-15\n",
       "     jac: array([-6.09996115e-08, -1.11544952e-07, -1.53965029e-07,  2.35368081e-08,\n",
       "       -9.72623404e-08])\n",
       " message: 'Optimization terminated successfully'\n",
       "    nfev: 71\n",
       "     nit: 11\n",
       "    njev: 11\n",
       "  status: 0\n",
       " success: True\n",
       "       x: array([0.02000002, 0.02380379, 0.02905568, 0.03135859, 0.03618644])"
      ]
     },
     "execution_count": 1,
     "metadata": {},
     "output_type": "execute_result"
    }
   ],
   "source": [
    "import numpy as np\n",
    "import math\n",
    "from scipy.optimize import minimize, Bounds, LinearConstraint\n",
    "\n",
    "def getSurvProbAtT(T, cdsTenors, cdsLambdas, recov):\n",
    "    survProb = 1.0\n",
    "    prevT = 0.0\n",
    "    for tenor_ii, lambda_ii in zip(cdsTenors, cdsLambdas):\n",
    "        if (T > prevT):\n",
    "            tau = min(tenor_ii, T) - prevT\n",
    "            survProb *= math.exp(-tau * lambda_ii)\n",
    "        prevT = tenor_ii\n",
    "        \n",
    "    return survProb\n",
    "\n",
    "def pvCDS(cdsLambdas, cdsTenors, cdsSpread, cdsMat, coupon_frequency, rf, recov):\n",
    "    total_payments = coupon_frequency * cdsMat\n",
    "    pv_def_leg = 0.0\n",
    "    pv_no_def_leg = 0.0\n",
    "    \n",
    "    for payment in range(1,total_payments+1):\n",
    "        payment_time = payment/coupon_frequency\n",
    "        \n",
    "        pv_no_def_leg += cdsSpread * math.exp(-rf * payment_time) * getSurvProbAtT(payment_time, cdsTenors, cdsLambdas, recov)\n",
    "        \n",
    "        lambda_ord = np.where(cdsTenors == min(cdsTenors[cdsTenors >= payment_time]))[0][0]\n",
    "        lambda_curr = cdsLambdas[lambda_ord]\n",
    "        \n",
    "        pv_def_leg +=  (1 - recov) * math.exp(-rf * payment_time) * getSurvProbAtT(payment_time, cdsTenors, cdsLambdas, recov) * lambda_curr\n",
    "               \n",
    "    return pv_def_leg, pv_no_def_leg\n",
    "\n",
    "def cdsPricingErrorSquared(cdsLambdas, cdsTenors, cdsSpreads, coupon_frequency, rf, recov):\n",
    "    sse = 0.0\n",
    "    \n",
    "    for tenor_ii, spread_ii in zip(cdsTenors, cdsSpreads):\n",
    "        pv_def_leg_ii, pv_no_def_leg_ii = pvCDS(cdsLambdas, cdsTenors, spread_ii, tenor_ii, coupon_frequency, rf, recov)\n",
    "        pv_cds_ii = (pv_def_leg_ii - pv_no_def_leg_ii)\n",
    "        sse += pv_cds_ii**2\n",
    "        \n",
    "    return sse;\n",
    "\n",
    "cdsSpreads = np.asarray([120, 135, 150, 160, 175]) / 10000.0\n",
    "cdsTenors = np.asarray([1, 3, 5, 7, 10])\n",
    "cdsLambdas = [0.05, 0.05, 0.05, 0.05, 0.05]\n",
    "coupon_frequency = 2\n",
    "rf = 0.005\n",
    "recov = 0.4\n",
    "\n",
    "pvCDS(cdsLambdas, cdsTenors, 0.05*(1-0.4), 5, 2, 0.0, 0.4)\n",
    "\n",
    "res = minimize(cdsPricingErrorSquared,\n",
    "               x0 = cdsLambdas,\n",
    "               bounds  = ((0.0, None),(0.0, None), (0.0, None), (0.0, None), (0.0, None)),\n",
    "         \t   args = (cdsTenors, cdsSpreads, coupon_frequency, rf, recov), \n",
    "         \t   tol = 1e-12,\n",
    "         \t   method = 'SLSQP',\n",
    "         \t   options={'maxiter': 2500, 'ftol': 1e-14})\n",
    "\n",
    "res"
   ]
  },
  {
   "cell_type": "code",
   "execution_count": 25,
   "id": "721f5c65-b929-4f9b-aae1-46a2094b3167",
   "metadata": {},
   "outputs": [
    {
     "data": {
      "text/plain": [
       "0"
      ]
     },
     "execution_count": 25,
     "metadata": {},
     "output_type": "execute_result"
    }
   ],
   "source": [
    "cdsSpreads = np.asarray([120, 135, 150, 160, 175])\n",
    "cdsTenors = np.asarray([1, 3, 5, 7, 10])\n",
    "\n",
    "tau = 2\n",
    "np.where(cdsTenors == max(cdsTenors[cdsTenors <= tau]))[0][0]"
   ]
  },
  {
   "cell_type": "code",
   "execution_count": 15,
   "id": "84f58a18-2a39-4389-83f0-057370401faf",
   "metadata": {},
   "outputs": [
    {
     "data": {
      "text/plain": [
       "array([ True, False, False, False, False])"
      ]
     },
     "execution_count": 15,
     "metadata": {},
     "output_type": "execute_result"
    }
   ],
   "source": [
    "cdsTenors <= tau"
   ]
  },
  {
   "cell_type": "code",
   "execution_count": 65,
   "id": "037244a9-8ab4-4f32-846f-8b86a298ea0b",
   "metadata": {},
   "outputs": [
    {
     "data": {
      "text/plain": [
       "0.022340515451364285"
      ]
     },
     "execution_count": 65,
     "metadata": {},
     "output_type": "execute_result"
    }
   ],
   "source": [
    "getSurvProbAtT(2, cdsTenors, cdsLambdas, 0.4)-getSurvProbAtT(2.5, cdsTenors, cdsLambdas, 0.4)"
   ]
  },
  {
   "cell_type": "code",
   "execution_count": 79,
   "id": "6833596d-6008-46cd-bb70-aac35081bbc5",
   "metadata": {},
   "outputs": [
    {
     "data": {
      "text/plain": [
       "2"
      ]
     },
     "execution_count": 79,
     "metadata": {},
     "output_type": "execute_result"
    }
   ],
   "source": [
    "tau"
   ]
  },
  {
   "cell_type": "code",
   "execution_count": null,
   "id": "9ad57456-199d-423b-8e5b-f14af52f9cb9",
   "metadata": {},
   "outputs": [],
   "source": []
  },
  {
   "cell_type": "code",
   "execution_count": null,
   "id": "bbce8508-facf-4be2-9c5f-6bb23121f912",
   "metadata": {},
   "outputs": [],
   "source": []
  }
 ],
 "metadata": {
  "kernelspec": {
   "display_name": "Python 3 (ipykernel)",
   "language": "python",
   "name": "python3"
  },
  "language_info": {
   "codemirror_mode": {
    "name": "ipython",
    "version": 3
   },
   "file_extension": ".py",
   "mimetype": "text/x-python",
   "name": "python",
   "nbconvert_exporter": "python",
   "pygments_lexer": "ipython3",
   "version": "3.9.6"
  }
 },
 "nbformat": 4,
 "nbformat_minor": 5
}
