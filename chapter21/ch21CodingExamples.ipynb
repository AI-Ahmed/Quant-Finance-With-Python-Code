{
 "cells": [
  {
   "cell_type": "code",
   "execution_count": 1,
   "id": "979b7b73-0e1d-4abf-9794-15cfe92f2534",
   "metadata": {},
   "outputs": [
    {
     "name": "stdout",
     "output_type": "stream",
     "text": [
      "best model parameter: alpha=0.1\n"
     ]
    },
    {
     "name": "stderr",
     "output_type": "stream",
     "text": [
      "/Library/Frameworks/Python.framework/Versions/3.9/lib/python3.9/site-packages/sklearn/model_selection/_validation.py:598: UserWarning: With alpha=0, this algorithm does not converge well. You are advised to use the LinearRegression estimator\n",
      "  estimator.fit(X_train, y_train, **fit_params)\n",
      "/Library/Frameworks/Python.framework/Versions/3.9/lib/python3.9/site-packages/sklearn/linear_model/_coordinate_descent.py:530: UserWarning: Coordinate descent with no regularization may lead to unexpected results and is discouraged.\n",
      "  model = cd_fast.enet_coordinate_descent(\n",
      "/Library/Frameworks/Python.framework/Versions/3.9/lib/python3.9/site-packages/sklearn/linear_model/_coordinate_descent.py:530: ConvergenceWarning: Objective did not converge. You might want to increase the number of iterations. Duality gap: 165795.1500610953, tolerance: 72.83865916666667\n",
      "  model = cd_fast.enet_coordinate_descent(\n",
      "/Library/Frameworks/Python.framework/Versions/3.9/lib/python3.9/site-packages/sklearn/model_selection/_validation.py:598: UserWarning: With alpha=0, this algorithm does not converge well. You are advised to use the LinearRegression estimator\n",
      "  estimator.fit(X_train, y_train, **fit_params)\n",
      "/Library/Frameworks/Python.framework/Versions/3.9/lib/python3.9/site-packages/sklearn/linear_model/_coordinate_descent.py:530: UserWarning: Coordinate descent with no regularization may lead to unexpected results and is discouraged.\n",
      "  model = cd_fast.enet_coordinate_descent(\n",
      "/Library/Frameworks/Python.framework/Versions/3.9/lib/python3.9/site-packages/sklearn/linear_model/_coordinate_descent.py:530: ConvergenceWarning: Objective did not converge. You might want to increase the number of iterations. Duality gap: 141995.07327045707, tolerance: 65.62538666666666\n",
      "  model = cd_fast.enet_coordinate_descent(\n",
      "/Library/Frameworks/Python.framework/Versions/3.9/lib/python3.9/site-packages/sklearn/model_selection/_validation.py:598: UserWarning: With alpha=0, this algorithm does not converge well. You are advised to use the LinearRegression estimator\n",
      "  estimator.fit(X_train, y_train, **fit_params)\n",
      "/Library/Frameworks/Python.framework/Versions/3.9/lib/python3.9/site-packages/sklearn/linear_model/_coordinate_descent.py:530: UserWarning: Coordinate descent with no regularization may lead to unexpected results and is discouraged.\n",
      "  model = cd_fast.enet_coordinate_descent(\n",
      "/Library/Frameworks/Python.framework/Versions/3.9/lib/python3.9/site-packages/sklearn/linear_model/_coordinate_descent.py:530: ConvergenceWarning: Objective did not converge. You might want to increase the number of iterations. Duality gap: 169243.2566848135, tolerance: 70.81228\n",
      "  model = cd_fast.enet_coordinate_descent(\n",
      "/Library/Frameworks/Python.framework/Versions/3.9/lib/python3.9/site-packages/sklearn/model_selection/_validation.py:598: UserWarning: With alpha=0, this algorithm does not converge well. You are advised to use the LinearRegression estimator\n",
      "  estimator.fit(X_train, y_train, **fit_params)\n",
      "/Library/Frameworks/Python.framework/Versions/3.9/lib/python3.9/site-packages/sklearn/linear_model/_coordinate_descent.py:530: UserWarning: Coordinate descent with no regularization may lead to unexpected results and is discouraged.\n",
      "  model = cd_fast.enet_coordinate_descent(\n",
      "/Library/Frameworks/Python.framework/Versions/3.9/lib/python3.9/site-packages/sklearn/linear_model/_coordinate_descent.py:530: ConvergenceWarning: Objective did not converge. You might want to increase the number of iterations. Duality gap: 138883.48100033405, tolerance: 65.37317\n",
      "  model = cd_fast.enet_coordinate_descent(\n",
      "/Library/Frameworks/Python.framework/Versions/3.9/lib/python3.9/site-packages/sklearn/model_selection/_validation.py:598: UserWarning: With alpha=0, this algorithm does not converge well. You are advised to use the LinearRegression estimator\n",
      "  estimator.fit(X_train, y_train, **fit_params)\n",
      "/Library/Frameworks/Python.framework/Versions/3.9/lib/python3.9/site-packages/sklearn/linear_model/_coordinate_descent.py:530: UserWarning: Coordinate descent with no regularization may lead to unexpected results and is discouraged.\n",
      "  model = cd_fast.enet_coordinate_descent(\n",
      "/Library/Frameworks/Python.framework/Versions/3.9/lib/python3.9/site-packages/sklearn/linear_model/_coordinate_descent.py:530: ConvergenceWarning: Objective did not converge. You might want to increase the number of iterations. Duality gap: 165710.6504848865, tolerance: 63.92219250000001\n",
      "  model = cd_fast.enet_coordinate_descent(\n"
     ]
    }
   ],
   "source": [
    "import numpy as np\n",
    "\n",
    "from sklearn import datasets, linear_model\n",
    "from sklearn.model_selection import cross_validate\n",
    "\n",
    "diabetes = datasets.load_diabetes()\n",
    "X = diabetes.data[:150]\n",
    "y = diabetes.target[:150]\n",
    "\n",
    "alpha_list = [0.0, 0.1, 0.2, 0.5, 1.0]\n",
    "score_list = []\n",
    "\n",
    "for alpha in alpha_list:\n",
    "    model = linear_model.Lasso(alpha=alpha)\n",
    "    cv_results = cross_validate(model, X, y, cv=5)\n",
    "    score = cv_results['test_score'].mean()\n",
    "    score_list.append(score)\n",
    "\n",
    "opt_idx = np.argmax(score_list)\n",
    "print('best model parameter: alpha={}'.format(alpha_list[opt_idx]))"
   ]
  },
  {
   "cell_type": "code",
   "execution_count": 2,
   "id": "c8335b37-3bb4-4449-b541-b12768dd1671",
   "metadata": {},
   "outputs": [],
   "source": [
    "from sklearn.cluster import KMeans\n",
    "import numpy as np\n",
    "from pandas_datareader import data\n",
    "\n",
    "df_px = data.get_data_yahoo(('XLF', 'XLB', 'XLK', 'XLY', 'XLV', 'XLI', 'XLE', 'XLU', 'XLY', 'XLRE'), start='2010-03-01', end='2021-02-28').loc[:, 'Adj Close']\n",
    "df_rets = df_px.pct_change(1).dropna()\n",
    "\n",
    "n = 3\n",
    "kmeans = KMeans(n_clusters=n, random_state=0).fit(df_rets)\n",
    "labels = kmeans.labels_\n",
    "centers = kmeans.cluster_centers_"
   ]
  },
  {
   "cell_type": "code",
   "execution_count": 3,
   "id": "da8386a4-e4eb-4090-86f1-0bc59e24333a",
   "metadata": {},
   "outputs": [
    {
     "data": {
      "text/plain": [
       "array([[-0.02763036, -0.02439367, -0.02423531, -0.02178245, -0.0189137 ,\n",
       "        -0.02501986, -0.03177234, -0.01392381, -0.01941636],\n",
       "       [ 0.00029944,  0.00020237,  0.00097235,  0.0006018 ,  0.00049777,\n",
       "         0.00033959, -0.00052994,  0.00045014,  0.00056537],\n",
       "       [ 0.02117754,  0.01928077,  0.01816653,  0.01607954,  0.01353007,\n",
       "         0.01899654,  0.02513307,  0.00986133,  0.01259828]])"
      ]
     },
     "execution_count": 3,
     "metadata": {},
     "output_type": "execute_result"
    }
   ],
   "source": [
    "centers"
   ]
  },
  {
   "cell_type": "code",
   "execution_count": 4,
   "id": "c053363a-45ac-47fb-8e07-ea617fce492e",
   "metadata": {},
   "outputs": [
    {
     "name": "stdout",
     "output_type": "stream",
     "text": [
      "[0 1 1 1 0 0 1 0 0 1]\n",
      "[0 0 0 ... 1 0 0]\n"
     ]
    }
   ],
   "source": [
    "from pandas_datareader import data\n",
    "from sklearn.cluster import KMeans\n",
    "\n",
    "asset_tickers = ['SPY', 'TLT', 'AGG', 'EMB', 'ACWI', 'IWM', 'HYG', 'EFA', 'EEM', 'GOVT']\n",
    "df_price = data.get_data_yahoo(asset_tickers, start='2012-03-01', end='2021-02-28')['Adj Close']\n",
    "df_ret = np.log(df_price/df_price.shift(1)).dropna()\n",
    "\n",
    "# cluster by ticker: stock vs bond\n",
    "kmeans1 = KMeans(n_clusters=2, random_state=0).fit(df_ret.T)\n",
    "print(kmeans1.labels_)  # [1, 0, 0, 0, 1, 1, 0, 1, 1, 0]\n",
    "\n",
    "# cluster by date: positive vs negative returns\n",
    "kmeans2 = KMeans(n_clusters=2, random_state=0).fit(df_ret)\n",
    "print(kmeans2.labels_)  # [1, 1, 1, ..., 0, 1, 1]"
   ]
  },
  {
   "cell_type": "code",
   "execution_count": 5,
   "id": "bc206612-a5c5-478d-86a1-fc4df39c5471",
   "metadata": {},
   "outputs": [
    {
     "data": {
      "text/plain": [
       "array([[0.66666667, 0.33333333],\n",
       "       [0.33333333, 0.66666667],\n",
       "       [0.66666667, 0.33333333],\n",
       "       [0.33333333, 0.66666667],\n",
       "       [0.66666667, 0.33333333],\n",
       "       [0.66666667, 0.33333333],\n",
       "       [0.66666667, 0.33333333],\n",
       "       [0.33333333, 0.66666667],\n",
       "       [0.        , 1.        ],\n",
       "       [1.        , 0.        ],\n",
       "       [1.        , 0.        ],\n",
       "       [1.        , 0.        ],\n",
       "       [0.66666667, 0.33333333],\n",
       "       [0.        , 1.        ],\n",
       "       [1.        , 0.        ],\n",
       "       [0.33333333, 0.66666667],\n",
       "       [0.33333333, 0.66666667],\n",
       "       [0.66666667, 0.33333333],\n",
       "       [1.        , 0.        ],\n",
       "       [0.33333333, 0.66666667],\n",
       "       [0.        , 1.        ],\n",
       "       [0.66666667, 0.33333333],\n",
       "       [0.33333333, 0.66666667],\n",
       "       [1.        , 0.        ],\n",
       "       [0.33333333, 0.66666667],\n",
       "       [0.66666667, 0.33333333],\n",
       "       [0.33333333, 0.66666667],\n",
       "       [0.66666667, 0.33333333],\n",
       "       [0.66666667, 0.33333333],\n",
       "       [0.66666667, 0.33333333],\n",
       "       [0.33333333, 0.66666667],\n",
       "       [0.66666667, 0.33333333],\n",
       "       [0.33333333, 0.66666667],\n",
       "       [0.33333333, 0.66666667],\n",
       "       [0.33333333, 0.66666667],\n",
       "       [0.66666667, 0.33333333],\n",
       "       [0.33333333, 0.66666667],\n",
       "       [0.        , 1.        ],\n",
       "       [0.33333333, 0.66666667],\n",
       "       [0.66666667, 0.33333333],\n",
       "       [0.66666667, 0.33333333],\n",
       "       [0.66666667, 0.33333333],\n",
       "       [0.66666667, 0.33333333],\n",
       "       [0.33333333, 0.66666667],\n",
       "       [0.66666667, 0.33333333],\n",
       "       [0.66666667, 0.33333333],\n",
       "       [1.        , 0.        ],\n",
       "       [0.66666667, 0.33333333],\n",
       "       [1.        , 0.        ],\n",
       "       [0.66666667, 0.33333333],\n",
       "       [0.33333333, 0.66666667],\n",
       "       [0.66666667, 0.33333333],\n",
       "       [0.33333333, 0.66666667],\n",
       "       [0.        , 1.        ],\n",
       "       [0.33333333, 0.66666667],\n",
       "       [0.33333333, 0.66666667],\n",
       "       [0.66666667, 0.33333333],\n",
       "       [0.33333333, 0.66666667],\n",
       "       [1.        , 0.        ],\n",
       "       [0.33333333, 0.66666667],\n",
       "       [0.66666667, 0.33333333],\n",
       "       [0.        , 1.        ],\n",
       "       [0.66666667, 0.33333333],\n",
       "       [0.33333333, 0.66666667],\n",
       "       [0.33333333, 0.66666667],\n",
       "       [0.33333333, 0.66666667],\n",
       "       [0.66666667, 0.33333333],\n",
       "       [0.        , 1.        ],\n",
       "       [0.66666667, 0.33333333],\n",
       "       [0.33333333, 0.66666667],\n",
       "       [0.33333333, 0.66666667],\n",
       "       [0.66666667, 0.33333333],\n",
       "       [0.33333333, 0.66666667],\n",
       "       [0.33333333, 0.66666667],\n",
       "       [1.        , 0.        ],\n",
       "       [0.66666667, 0.33333333],\n",
       "       [0.66666667, 0.33333333],\n",
       "       [1.        , 0.        ],\n",
       "       [0.33333333, 0.66666667],\n",
       "       [0.33333333, 0.66666667],\n",
       "       [0.66666667, 0.33333333],\n",
       "       [0.        , 1.        ],\n",
       "       [0.66666667, 0.33333333],\n",
       "       [0.33333333, 0.66666667],\n",
       "       [0.33333333, 0.66666667],\n",
       "       [0.66666667, 0.33333333],\n",
       "       [0.66666667, 0.33333333],\n",
       "       [1.        , 0.        ],\n",
       "       [0.        , 1.        ],\n",
       "       [0.66666667, 0.33333333],\n",
       "       [0.33333333, 0.66666667],\n",
       "       [0.66666667, 0.33333333],\n",
       "       [0.33333333, 0.66666667],\n",
       "       [0.        , 1.        ],\n",
       "       [0.33333333, 0.66666667],\n",
       "       [0.33333333, 0.66666667],\n",
       "       [1.        , 0.        ],\n",
       "       [1.        , 0.        ],\n",
       "       [0.33333333, 0.66666667],\n",
       "       [0.33333333, 0.66666667],\n",
       "       [0.33333333, 0.66666667],\n",
       "       [0.33333333, 0.66666667],\n",
       "       [0.33333333, 0.66666667],\n",
       "       [1.        , 0.        ],\n",
       "       [0.66666667, 0.33333333],\n",
       "       [0.33333333, 0.66666667],\n",
       "       [0.66666667, 0.33333333],\n",
       "       [0.66666667, 0.33333333],\n",
       "       [0.33333333, 0.66666667],\n",
       "       [0.33333333, 0.66666667],\n",
       "       [0.66666667, 0.33333333],\n",
       "       [0.33333333, 0.66666667],\n",
       "       [0.        , 1.        ],\n",
       "       [0.66666667, 0.33333333],\n",
       "       [0.66666667, 0.33333333],\n",
       "       [0.33333333, 0.66666667],\n",
       "       [0.66666667, 0.33333333],\n",
       "       [0.66666667, 0.33333333],\n",
       "       [0.33333333, 0.66666667],\n",
       "       [0.66666667, 0.33333333],\n",
       "       [0.66666667, 0.33333333],\n",
       "       [0.33333333, 0.66666667],\n",
       "       [0.33333333, 0.66666667],\n",
       "       [0.66666667, 0.33333333],\n",
       "       [0.33333333, 0.66666667],\n",
       "       [0.33333333, 0.66666667],\n",
       "       [0.66666667, 0.33333333]])"
      ]
     },
     "execution_count": 5,
     "metadata": {},
     "output_type": "execute_result"
    }
   ],
   "source": [
    "from sklearn.neighbors import KNeighborsClassifier\n",
    "\n",
    "df_price_train = data.get_data_yahoo('SPY', start='2012-03-01', end='2021-02-28')['Adj Close']\n",
    "df_ret_train = np.log(df_price_train/df_price_train.shift(1)).dropna()\n",
    "X_train = df_ret_train.values.reshape(-1, 1)[:-1]\n",
    "y_train = np.where(df_ret_train>0, 1, 0)[1:]\n",
    "\n",
    "df_price_test = data.get_data_yahoo('SPY', start='2021-03-01', end='2021-08-31')['Adj Close']\n",
    "df_ret_test = np.log(df_price_test/df_price_test.shift(1)).dropna()\n",
    "X_test = df_ret_test.values.reshape(-1, 1)[:-1]\n",
    "y_test = np.where(df_ret_test>0, 1, 0)[1:]\n",
    "\n",
    "knn = KNeighborsClassifier(n_neighbors=n).fit(X_train, y_train)\n",
    "knn.predict(X_test)\n",
    "knn.predict_proba(X_test)"
   ]
  },
  {
   "cell_type": "code",
   "execution_count": 6,
   "id": "d20fb224-4402-403b-b4f0-38a8b68cc03a",
   "metadata": {},
   "outputs": [
    {
     "data": {
      "text/plain": [
       "0.49606299212598426"
      ]
     },
     "execution_count": 6,
     "metadata": {},
     "output_type": "execute_result"
    }
   ],
   "source": [
    "import matplotlib.pyplot as plt\n",
    "\n",
    "knn.predict(X_test).mean()"
   ]
  },
  {
   "cell_type": "code",
   "execution_count": 7,
   "id": "65999df7-a3b1-4e99-b4aa-641067510026",
   "metadata": {},
   "outputs": [
    {
     "data": {
      "text/plain": [
       "0.9800973020787263"
      ]
     },
     "execution_count": 7,
     "metadata": {},
     "output_type": "execute_result"
    }
   ],
   "source": [
    "from sklearn import svm\n",
    "model = svm.SVC()\n",
    "model.fit(X_train, y_train)\n",
    "model.support_vectors_\n",
    "model.predict(X_train).mean()"
   ]
  },
  {
   "cell_type": "code",
   "execution_count": 8,
   "id": "7b6990a6-caf2-4830-acc3-5ae3fd47e21f",
   "metadata": {},
   "outputs": [
    {
     "name": "stdout",
     "output_type": "stream",
     "text": [
      "0.562140645731977\n",
      "[[  23  981]\n",
      " [   9 1248]]\n",
      "0.5238095238095238\n",
      "[[ 0 10]\n",
      " [ 0 11]]\n"
     ]
    }
   ],
   "source": [
    "import numpy as np\n",
    "from pandas_datareader import data\n",
    "from sklearn import svm\n",
    "from sklearn.metrics import accuracy_score, confusion_matrix, classification_report\n",
    "\n",
    "# prepare data\n",
    "df_price_train = data.get_data_yahoo('SPY', start='2012-03-01', end='2021-02-28')['Adj Close']\n",
    "df_ret_train = np.log(df_price_train/df_price_train.shift(1)).dropna()\n",
    "X_train = df_ret_train.values.reshape(-1, 1)[:-1]\n",
    "y_train = np.where(df_ret_train>0, 1, 0)[1:]\n",
    "\n",
    "df_price_test = data.get_data_yahoo('SPY', start='2021-03-01', end='2021-03-31')['Adj Close']\n",
    "df_ret_test = np.log(df_price_test/df_price_test.shift(1)).dropna()\n",
    "X_test = df_ret_test.values.reshape(-1, 1)[:-1]\n",
    "y_test = np.where(df_ret_test>0, 1, 0)[1:]\n",
    "\n",
    "# train the model\n",
    "model = svm.SVC(C=50, kernel='rbf', probability=True)\n",
    "model.fit(X_train, y_train)\n",
    "y_pred_train = model.predict(X_train)\n",
    "y_pred_train_probs = model.predict_proba(X_train)\n",
    "\n",
    "# test the model\n",
    "y_pred_test = model.predict(X_test)\n",
    "y_pred_test_probs = model.predict_proba(X_train)\n",
    "\n",
    "# model performance on train set\n",
    "print(accuracy_score(y_train, y_pred_train))  # accuracy\n",
    "print(confusion_matrix(y_train, y_pred_train))  # confusion matrix\n",
    "#print(classification_report(y_train, y_pred_train, digits=4))  # full classification report\n",
    "\n",
    "# model performance on test set\n",
    "print(accuracy_score(y_test, y_pred_test))  # accuracy\n",
    "print(confusion_matrix(y_test, y_pred_test))  # confusion matrix\n",
    "#print(classification_report(y_test, y_pred_test, digits=4))  # full classification report"
   ]
  },
  {
   "cell_type": "code",
   "execution_count": 9,
   "id": "8a0cc8e2-cd84-43a2-a6e2-9f9deafe7027",
   "metadata": {},
   "outputs": [
    {
     "data": {
      "text/plain": [
       "[<matplotlib.lines.Line2D at 0x7ffaec932d60>]"
      ]
     },
     "execution_count": 9,
     "metadata": {},
     "output_type": "execute_result"
    },
    {
     "data": {
      "image/png": "[encoded data removed]",
      "text/plain": [
       "<Figure size 432x288 with 1 Axes>"
      ]
     },
     "metadata": {
      "needs_background": "light"
     },
     "output_type": "display_data"
    }
   ],
   "source": [
    "import matplotlib.pyplot as plt\n",
    "\n",
    "plt.plot(y_pred_train_probs[:,1])"
   ]
  },
  {
   "cell_type": "code",
   "execution_count": 10,
   "id": "2adc4d97-5cf0-4e4a-9883-291020bcbf5a",
   "metadata": {},
   "outputs": [],
   "source": [
    "# sklearn: logistic regression\n",
    "from sklearn.linear_model import LogisticRegression\n",
    "model = LogisticRegression()\n",
    "model.fit(X_train, y_train)\n",
    "score = model.coef_[0]\n",
    "\n",
    "# sklearn: decision tree\n",
    "from sklearn.tree import DecisionTreeClassifier\n",
    "model = DecisionTreeClassifier()\n",
    "model.fit(X_train, y_train)\n",
    "score = model.feature_importances_"
   ]
  },
  {
   "cell_type": "code",
   "execution_count": 34,
   "id": "52657dd1-14da-4b39-8922-088e1420631c",
   "metadata": {},
   "outputs": [
    {
     "ename": "ImportError",
     "evalue": "Numba needs NumPy 1.20 or less",
     "output_type": "error",
     "traceback": [
      "\u001b[0;31m---------------------------------------------------------------------------\u001b[0m",
      "\u001b[0;31mImportError\u001b[0m                               Traceback (most recent call last)",
      "\u001b[0;32m/var/folders/m2/1pbsjvss7cbc_n95rbg7ctqm0000gn/T/ipykernel_4124/1094350979.py\u001b[0m in \u001b[0;36m<module>\u001b[0;34m\u001b[0m\n\u001b[1;32m      1\u001b[0m \u001b[0;31m# SHAP: XGBoost\u001b[0m\u001b[0;34m\u001b[0m\u001b[0;34m\u001b[0m\u001b[0;34m\u001b[0m\u001b[0m\n\u001b[0;32m----> 2\u001b[0;31m \u001b[0;32mimport\u001b[0m \u001b[0mshap\u001b[0m  \u001b[0;31m# remember to install shap first\u001b[0m\u001b[0;34m\u001b[0m\u001b[0;34m\u001b[0m\u001b[0m\n\u001b[0m\u001b[1;32m      3\u001b[0m \u001b[0;32mfrom\u001b[0m \u001b[0mxgboost\u001b[0m \u001b[0;32mimport\u001b[0m \u001b[0mXGBRegressor\u001b[0m\u001b[0;34m\u001b[0m\u001b[0;34m\u001b[0m\u001b[0m\n\u001b[1;32m      4\u001b[0m \u001b[0mmodel\u001b[0m \u001b[0;34m=\u001b[0m \u001b[0mXGBRegressor\u001b[0m\u001b[0;34m(\u001b[0m\u001b[0;34m)\u001b[0m\u001b[0;34m\u001b[0m\u001b[0;34m\u001b[0m\u001b[0m\n\u001b[1;32m      5\u001b[0m \u001b[0mmodel\u001b[0m\u001b[0;34m.\u001b[0m\u001b[0mfit\u001b[0m\u001b[0;34m(\u001b[0m\u001b[0mX_train\u001b[0m\u001b[0;34m,\u001b[0m \u001b[0my_train\u001b[0m\u001b[0;34m)\u001b[0m\u001b[0;34m\u001b[0m\u001b[0;34m\u001b[0m\u001b[0m\n",
      "\u001b[0;32m/Library/Frameworks/Python.framework/Versions/3.9/lib/python3.9/site-packages/shap/__init__.py\u001b[0m in \u001b[0;36m<module>\u001b[0;34m\u001b[0m\n\u001b[1;32m     10\u001b[0m     \u001b[0mwarnings\u001b[0m\u001b[0;34m.\u001b[0m\u001b[0mwarn\u001b[0m\u001b[0;34m(\u001b[0m\u001b[0;34m\"As of version 0.29.0 shap only supports Python 3 (not 2)!\"\u001b[0m\u001b[0;34m)\u001b[0m\u001b[0;34m\u001b[0m\u001b[0;34m\u001b[0m\u001b[0m\n\u001b[1;32m     11\u001b[0m \u001b[0;34m\u001b[0m\u001b[0m\n\u001b[0;32m---> 12\u001b[0;31m \u001b[0;32mfrom\u001b[0m \u001b[0;34m.\u001b[0m\u001b[0m_explanation\u001b[0m \u001b[0;32mimport\u001b[0m \u001b[0mExplanation\u001b[0m\u001b[0;34m,\u001b[0m \u001b[0mCohorts\u001b[0m\u001b[0;34m\u001b[0m\u001b[0;34m\u001b[0m\u001b[0m\n\u001b[0m\u001b[1;32m     13\u001b[0m \u001b[0;34m\u001b[0m\u001b[0m\n\u001b[1;32m     14\u001b[0m \u001b[0;31m# explainers\u001b[0m\u001b[0;34m\u001b[0m\u001b[0;34m\u001b[0m\u001b[0;34m\u001b[0m\u001b[0m\n",
      "\u001b[0;32m/Library/Frameworks/Python.framework/Versions/3.9/lib/python3.9/site-packages/shap/_explanation.py\u001b[0m in \u001b[0;36m<module>\u001b[0;34m\u001b[0m\n\u001b[1;32m     10\u001b[0m \u001b[0;32mfrom\u001b[0m \u001b[0mslicer\u001b[0m \u001b[0;32mimport\u001b[0m \u001b[0mSlicer\u001b[0m\u001b[0;34m,\u001b[0m \u001b[0mAlias\u001b[0m\u001b[0;34m,\u001b[0m \u001b[0mObj\u001b[0m\u001b[0;34m\u001b[0m\u001b[0;34m\u001b[0m\u001b[0m\n\u001b[1;32m     11\u001b[0m \u001b[0;31m# from ._order import Order\u001b[0m\u001b[0;34m\u001b[0m\u001b[0;34m\u001b[0m\u001b[0;34m\u001b[0m\u001b[0m\n\u001b[0;32m---> 12\u001b[0;31m \u001b[0;32mfrom\u001b[0m \u001b[0;34m.\u001b[0m\u001b[0mutils\u001b[0m\u001b[0;34m.\u001b[0m\u001b[0m_general\u001b[0m \u001b[0;32mimport\u001b[0m \u001b[0mOpChain\u001b[0m\u001b[0;34m\u001b[0m\u001b[0;34m\u001b[0m\u001b[0m\n\u001b[0m\u001b[1;32m     13\u001b[0m \u001b[0;34m\u001b[0m\u001b[0m\n\u001b[1;32m     14\u001b[0m \u001b[0;31m# slicer confuses pylint...\u001b[0m\u001b[0;34m\u001b[0m\u001b[0;34m\u001b[0m\u001b[0;34m\u001b[0m\u001b[0m\n",
      "\u001b[0;32m/Library/Frameworks/Python.framework/Versions/3.9/lib/python3.9/site-packages/shap/utils/__init__.py\u001b[0m in \u001b[0;36m<module>\u001b[0;34m\u001b[0m\n\u001b[0;32m----> 1\u001b[0;31m \u001b[0;32mfrom\u001b[0m \u001b[0;34m.\u001b[0m\u001b[0m_clustering\u001b[0m \u001b[0;32mimport\u001b[0m \u001b[0mhclust_ordering\u001b[0m\u001b[0;34m,\u001b[0m \u001b[0mpartition_tree\u001b[0m\u001b[0;34m,\u001b[0m \u001b[0mpartition_tree_shuffle\u001b[0m\u001b[0;34m,\u001b[0m \u001b[0mdelta_minimization_order\u001b[0m\u001b[0;34m,\u001b[0m \u001b[0mhclust\u001b[0m\u001b[0;34m\u001b[0m\u001b[0;34m\u001b[0m\u001b[0m\n\u001b[0m\u001b[1;32m      2\u001b[0m \u001b[0;32mfrom\u001b[0m \u001b[0;34m.\u001b[0m\u001b[0m_general\u001b[0m \u001b[0;32mimport\u001b[0m \u001b[0mapproximate_interactions\u001b[0m\u001b[0;34m,\u001b[0m \u001b[0mpotential_interactions\u001b[0m\u001b[0;34m,\u001b[0m \u001b[0msample\u001b[0m\u001b[0;34m,\u001b[0m \u001b[0msafe_isinstance\u001b[0m\u001b[0;34m,\u001b[0m \u001b[0massert_import\u001b[0m\u001b[0;34m,\u001b[0m \u001b[0mrecord_import_error\u001b[0m\u001b[0;34m\u001b[0m\u001b[0;34m\u001b[0m\u001b[0m\n\u001b[1;32m      3\u001b[0m \u001b[0;32mfrom\u001b[0m \u001b[0;34m.\u001b[0m\u001b[0m_general\u001b[0m \u001b[0;32mimport\u001b[0m \u001b[0mshapley_coefficients\u001b[0m\u001b[0;34m,\u001b[0m \u001b[0mconvert_name\u001b[0m\u001b[0;34m,\u001b[0m \u001b[0mformat_value\u001b[0m\u001b[0;34m,\u001b[0m \u001b[0mordinal_str\u001b[0m\u001b[0;34m,\u001b[0m \u001b[0mOpChain\u001b[0m\u001b[0;34m\u001b[0m\u001b[0;34m\u001b[0m\u001b[0m\n\u001b[1;32m      4\u001b[0m \u001b[0;32mfrom\u001b[0m \u001b[0;34m.\u001b[0m\u001b[0m_show_progress\u001b[0m \u001b[0;32mimport\u001b[0m \u001b[0mshow_progress\u001b[0m\u001b[0;34m\u001b[0m\u001b[0;34m\u001b[0m\u001b[0m\n\u001b[1;32m      5\u001b[0m \u001b[0;32mfrom\u001b[0m \u001b[0;34m.\u001b[0m\u001b[0m_masked_model\u001b[0m \u001b[0;32mimport\u001b[0m \u001b[0mMaskedModel\u001b[0m\u001b[0;34m,\u001b[0m \u001b[0mmake_masks\u001b[0m\u001b[0;34m\u001b[0m\u001b[0;34m\u001b[0m\u001b[0m\n",
      "\u001b[0;32m/Library/Frameworks/Python.framework/Versions/3.9/lib/python3.9/site-packages/shap/utils/_clustering.py\u001b[0m in \u001b[0;36m<module>\u001b[0;34m\u001b[0m\n\u001b[1;32m      2\u001b[0m \u001b[0;32mimport\u001b[0m \u001b[0mscipy\u001b[0m \u001b[0;32mas\u001b[0m \u001b[0msp\u001b[0m\u001b[0;34m\u001b[0m\u001b[0;34m\u001b[0m\u001b[0m\n\u001b[1;32m      3\u001b[0m \u001b[0;32mfrom\u001b[0m \u001b[0mscipy\u001b[0m\u001b[0;34m.\u001b[0m\u001b[0mspatial\u001b[0m\u001b[0;34m.\u001b[0m\u001b[0mdistance\u001b[0m \u001b[0;32mimport\u001b[0m \u001b[0mpdist\u001b[0m\u001b[0;34m\u001b[0m\u001b[0;34m\u001b[0m\u001b[0m\n\u001b[0;32m----> 4\u001b[0;31m \u001b[0;32mfrom\u001b[0m \u001b[0mnumba\u001b[0m \u001b[0;32mimport\u001b[0m \u001b[0mjit\u001b[0m\u001b[0;34m\u001b[0m\u001b[0;34m\u001b[0m\u001b[0m\n\u001b[0m\u001b[1;32m      5\u001b[0m \u001b[0;32mimport\u001b[0m \u001b[0msklearn\u001b[0m\u001b[0;34m\u001b[0m\u001b[0;34m\u001b[0m\u001b[0m\n\u001b[1;32m      6\u001b[0m \u001b[0;32mimport\u001b[0m \u001b[0mwarnings\u001b[0m\u001b[0;34m\u001b[0m\u001b[0;34m\u001b[0m\u001b[0m\n",
      "\u001b[0;32m/Library/Frameworks/Python.framework/Versions/3.9/lib/python3.9/site-packages/numba/__init__.py\u001b[0m in \u001b[0;36m<module>\u001b[0;34m\u001b[0m\n\u001b[1;32m    196\u001b[0m \u001b[0;34m\u001b[0m\u001b[0m\n\u001b[1;32m    197\u001b[0m \u001b[0m_ensure_llvm\u001b[0m\u001b[0;34m(\u001b[0m\u001b[0;34m)\u001b[0m\u001b[0;34m\u001b[0m\u001b[0;34m\u001b[0m\u001b[0m\n\u001b[0;32m--> 198\u001b[0;31m \u001b[0m_ensure_critical_deps\u001b[0m\u001b[0;34m(\u001b[0m\u001b[0;34m)\u001b[0m\u001b[0;34m\u001b[0m\u001b[0;34m\u001b[0m\u001b[0m\n\u001b[0m\u001b[1;32m    199\u001b[0m \u001b[0;34m\u001b[0m\u001b[0m\n\u001b[1;32m    200\u001b[0m \u001b[0;31m# we know llvmlite is working as the above tests passed, import it now as SVML\u001b[0m\u001b[0;34m\u001b[0m\u001b[0;34m\u001b[0m\u001b[0;34m\u001b[0m\u001b[0m\n",
      "\u001b[0;32m/Library/Frameworks/Python.framework/Versions/3.9/lib/python3.9/site-packages/numba/__init__.py\u001b[0m in \u001b[0;36m_ensure_critical_deps\u001b[0;34m()\u001b[0m\n\u001b[1;32m    136\u001b[0m         \u001b[0;32mraise\u001b[0m \u001b[0mImportError\u001b[0m\u001b[0;34m(\u001b[0m\u001b[0;34m\"Numba needs NumPy 1.17 or greater\"\u001b[0m\u001b[0;34m)\u001b[0m\u001b[0;34m\u001b[0m\u001b[0;34m\u001b[0m\u001b[0m\n\u001b[1;32m    137\u001b[0m     \u001b[0;32melif\u001b[0m \u001b[0mnumpy_version\u001b[0m \u001b[0;34m>\u001b[0m \u001b[0;34m(\u001b[0m\u001b[0;36m1\u001b[0m\u001b[0;34m,\u001b[0m \u001b[0;36m20\u001b[0m\u001b[0;34m)\u001b[0m\u001b[0;34m:\u001b[0m\u001b[0;34m\u001b[0m\u001b[0;34m\u001b[0m\u001b[0m\n\u001b[0;32m--> 138\u001b[0;31m         \u001b[0;32mraise\u001b[0m \u001b[0mImportError\u001b[0m\u001b[0;34m(\u001b[0m\u001b[0;34m\"Numba needs NumPy 1.20 or less\"\u001b[0m\u001b[0;34m)\u001b[0m\u001b[0;34m\u001b[0m\u001b[0;34m\u001b[0m\u001b[0m\n\u001b[0m\u001b[1;32m    139\u001b[0m \u001b[0;34m\u001b[0m\u001b[0m\n\u001b[1;32m    140\u001b[0m     \u001b[0;32mtry\u001b[0m\u001b[0;34m:\u001b[0m\u001b[0;34m\u001b[0m\u001b[0;34m\u001b[0m\u001b[0m\n",
      "\u001b[0;31mImportError\u001b[0m: Numba needs NumPy 1.20 or less"
     ]
    }
   ],
   "source": [
    "# SHAP: XGBoost\n",
    "import shap  # remember to install shap first\n",
    "from xgboost import XGBRegressor\n",
    "model = XGBRegressor()\n",
    "model.fit(X_train, y_train)\n",
    "explainer = shap.Explainer(model)\n",
    "score = explainer(X_train)\n",
    "\n",
    "# Grad-CAM: neural network\n",
    "from keras.applications.vgg16 import VGG16, preprocess_input\n",
    "from keras import backend as K\n",
    "model = VGG16(weights='imagenet', input_shape=(224, 224, 3))\n",
    "preds = model.predict(preprocess_input(x))  # x is an image in the format of numpy array\n",
    "label_ind = np.argmax(preds[0])\n",
    "\n",
    "output = model.output[:, label_ind]\n",
    "last_conv_layer = model.get_layer('block5_conv3')\n",
    "grads = K.gradients(output, last_conv_layer.output)[0]\n",
    "pooled_grads = K.mean(grads, axis=(0, 1, 2))\n",
    "iterate = K.function([model.input], [pooled_grads, last_conv_layer.output[0]])\n",
    "pooled_grads_value, conv_layer_output_value = iterate([x])\n",
    "for i in range(512):\n",
    "    conv_layer_output_value[:, :, i] *= pooled_grads_value[i]\n",
    "heatmap = np.mean(conv_layer_output_value, axis=-1)\n",
    "\n",
    "heatmap = np.maximum(heatmap, 0)\n",
    "heatmap /= np.max(heatmap)\n",
    "plt.matshow(heatmap)\n",
    "plt.show()"
   ]
  },
  {
   "cell_type": "code",
   "execution_count": 33,
   "id": "5ed97a74-d4dd-4234-b7df-221a219b3d3e",
   "metadata": {},
   "outputs": [
    {
     "data": {
      "text/plain": [
       "array([1.])"
      ]
     },
     "execution_count": 33,
     "metadata": {},
     "output_type": "execute_result"
    }
   ],
   "source": [
    "score"
   ]
  },
  {
   "cell_type": "code",
   "execution_count": 43,
   "id": "80c80a82-aabd-4c1c-ad85-e1f26bfcbd56",
   "metadata": {},
   "outputs": [],
   "source": [
    "from sklearn.model_selection import ShuffleSplit\n",
    "from sklearn.model_selection import cross_val_score\n",
    "from sklearn import metrics\n",
    "from sklearn.model_selection import GridSearchCV\n",
    "\n",
    "param_grid= {'kernel': ('linear','sigmoid', 'rbf'), 'C': [0.01, 0.05, 0.1, 0.25, 1, 2.5, 5, 10, 25, 100], 'gamma': (1e-9, 5e-9, 1e-8, 5e-8, 1e-7, 1e-6)}\n",
    "\n",
    "model = svm.SVC()\n",
    "model.fit(X_train, y_train)\n",
    "\n",
    "n_samples = X_train.shape[0]\n",
    "cv = ShuffleSplit(n_splits=5, test_size=0.3, random_state=0)\n",
    "valsScores = cross_val_score(model, X_train, y_train, cv=cv)\n",
    "\n",
    "search = GridSearchCV(model, param_grid, cv=5)\n",
    "param_fits = search.fit(X_train, y_train)"
   ]
  },
  {
   "cell_type": "code",
   "execution_count": 44,
   "id": "01529bf8-1cf8-443c-8249-4377a1fbd9a1",
   "metadata": {},
   "outputs": [
    {
     "name": "stdout",
     "output_type": "stream",
     "text": [
      "{'C': 0.01, 'gamma': 1e-09, 'kernel': 'linear'}\n"
     ]
    }
   ],
   "source": [
    "ord = np.argmax(param_fits.cv_results_['mean_test_score'])\n",
    "print(param_fits.cv_results_['params'][ord])"
   ]
  },
  {
   "cell_type": "code",
   "execution_count": 7,
   "id": "2593fe9d-15c5-496c-9a04-b4fca6838dba",
   "metadata": {},
   "outputs": [
    {
     "data": {
      "text/plain": [
       "{'mean_fit_time': array([0.06949964, 0.13950262, 0.13581085, 0.07834501, 0.11295319,\n",
       "        0.12038188, 0.07024488, 0.12874837, 0.12699709, 0.07140517,\n",
       "        0.10005441, 0.11358581, 0.07722716, 0.12825179, 0.14497476,\n",
       "        0.07147436, 0.10076165, 0.11237116, 0.07187414, 0.11398134,\n",
       "        0.17088394, 0.07904935, 0.09797416, 0.13070683, 0.08177686,\n",
       "        0.10915823, 0.20057921, 0.09126811, 0.13168674, 0.11860161,\n",
       "        0.0735302 , 0.10452981, 0.18147664, 0.07186208, 0.09860826,\n",
       "        0.20150704, 0.07500944, 0.09405937, 0.2944006 , 0.08191586,\n",
       "        0.1453392 , 0.20569544, 0.23967004, 0.11158633, 0.51601768,\n",
       "        0.09479475, 0.12296834, 0.14468913, 0.08268824, 0.09633245,\n",
       "        0.6121593 , 0.08409266, 0.11344538, 0.14419231, 0.10662837,\n",
       "        0.14305949, 1.59249072, 0.08218436, 0.11174908, 0.14908338]),\n",
       " 'std_fit_time': array([0.005557  , 0.01320873, 0.03018996, 0.00242829, 0.0097679 ,\n",
       "        0.0085409 , 0.00227227, 0.0090617 , 0.00895981, 0.00597682,\n",
       "        0.00596392, 0.00571835, 0.01186379, 0.01664037, 0.02015027,\n",
       "        0.00444812, 0.00320037, 0.00487985, 0.0028247 , 0.01130366,\n",
       "        0.01076007, 0.00492888, 0.00299611, 0.02485654, 0.01165168,\n",
       "        0.01537943, 0.01280122, 0.03139976, 0.05879479, 0.00483569,\n",
       "        0.0025901 , 0.01464961, 0.01730018, 0.00225623, 0.00421253,\n",
       "        0.14606817, 0.00735579, 0.00331794, 0.05992978, 0.00713042,\n",
       "        0.0677449 , 0.07987768, 0.21815736, 0.00937493, 0.1925288 ,\n",
       "        0.01622637, 0.01251049, 0.0119112 , 0.00388722, 0.00467142,\n",
       "        0.17791528, 0.00859821, 0.01105613, 0.01002952, 0.01683229,\n",
       "        0.06767379, 0.58217334, 0.0043057 , 0.00719604, 0.00603208]),\n",
       " 'mean_score_time': array([0.01475081, 0.02897091, 0.09270124, 0.01875916, 0.02456112,\n",
       "        0.09192538, 0.01545172, 0.0204103 , 0.08846955, 0.01592045,\n",
       "        0.02007918, 0.09057436, 0.01812057, 0.01875215, 0.10242901,\n",
       "        0.01580634, 0.02525296, 0.09351935, 0.0161809 , 0.01759086,\n",
       "        0.11305881, 0.016541  , 0.02426739, 0.09793205, 0.01788516,\n",
       "        0.01594305, 0.11266274, 0.02129607, 0.02164931, 0.12628756,\n",
       "        0.01622939, 0.01708112, 0.10059948, 0.01589737, 0.02038794,\n",
       "        0.14642401, 0.01622801, 0.01541839, 0.11873937, 0.01747494,\n",
       "        0.02865601, 0.11891069, 0.04701691, 0.01870031, 0.18846612,\n",
       "        0.02048779, 0.0266829 , 0.1064291 , 0.01742735, 0.0156538 ,\n",
       "        0.10419531, 0.01838965, 0.02296996, 0.11776881, 0.02984943,\n",
       "        0.02040915, 0.0939559 , 0.020614  , 0.02455807, 0.09256282]),\n",
       " 'std_score_time': array([0.00020111, 0.0048418 , 0.00351178, 0.00306589, 0.00462039,\n",
       "        0.00694163, 0.00078315, 0.0013715 , 0.00379475, 0.0006905 ,\n",
       "        0.00066468, 0.0051097 , 0.00455533, 0.00212876, 0.01244316,\n",
       "        0.00096016, 0.00827405, 0.01084959, 0.0009611 , 0.00234086,\n",
       "        0.00752782, 0.00090278, 0.0062261 , 0.01238344, 0.00140174,\n",
       "        0.0014737 , 0.01254092, 0.0068859 , 0.00207   , 0.07521788,\n",
       "        0.00082877, 0.00216067, 0.01389494, 0.00090029, 0.00067643,\n",
       "        0.1078793 , 0.00097381, 0.00113303, 0.01578284, 0.00113049,\n",
       "        0.00741283, 0.0168155 , 0.05171778, 0.00147563, 0.10880828,\n",
       "        0.00193214, 0.00441709, 0.01461093, 0.00116533, 0.00069899,\n",
       "        0.01254112, 0.00123687, 0.00061217, 0.03434295, 0.01115487,\n",
       "        0.00563826, 0.00282905, 0.00522163, 0.00386557, 0.00282633]),\n",
       " 'param_C': masked_array(data=[0.01, 0.01, 0.01, 0.01, 0.01, 0.01, 0.05, 0.05, 0.05,\n",
       "                    0.05, 0.05, 0.05, 0.1, 0.1, 0.1, 0.1, 0.1, 0.1, 0.25,\n",
       "                    0.25, 0.25, 0.25, 0.25, 0.25, 1, 1, 1, 1, 1, 1, 2.5,\n",
       "                    2.5, 2.5, 2.5, 2.5, 2.5, 5, 5, 5, 5, 5, 5, 10, 10, 10,\n",
       "                    10, 10, 10, 25, 25, 25, 25, 25, 25, 100, 100, 100, 100,\n",
       "                    100, 100],\n",
       "              mask=[False, False, False, False, False, False, False, False,\n",
       "                    False, False, False, False, False, False, False, False,\n",
       "                    False, False, False, False, False, False, False, False,\n",
       "                    False, False, False, False, False, False, False, False,\n",
       "                    False, False, False, False, False, False, False, False,\n",
       "                    False, False, False, False, False, False, False, False,\n",
       "                    False, False, False, False, False, False, False, False,\n",
       "                    False, False, False, False],\n",
       "        fill_value='?',\n",
       "             dtype=object),\n",
       " 'param_gamma': masked_array(data=['scale', 'scale', 'scale', 'auto', 'auto', 'auto',\n",
       "                    'scale', 'scale', 'scale', 'auto', 'auto', 'auto',\n",
       "                    'scale', 'scale', 'scale', 'auto', 'auto', 'auto',\n",
       "                    'scale', 'scale', 'scale', 'auto', 'auto', 'auto',\n",
       "                    'scale', 'scale', 'scale', 'auto', 'auto', 'auto',\n",
       "                    'scale', 'scale', 'scale', 'auto', 'auto', 'auto',\n",
       "                    'scale', 'scale', 'scale', 'auto', 'auto', 'auto',\n",
       "                    'scale', 'scale', 'scale', 'auto', 'auto', 'auto',\n",
       "                    'scale', 'scale', 'scale', 'auto', 'auto', 'auto',\n",
       "                    'scale', 'scale', 'scale', 'auto', 'auto', 'auto'],\n",
       "              mask=[False, False, False, False, False, False, False, False,\n",
       "                    False, False, False, False, False, False, False, False,\n",
       "                    False, False, False, False, False, False, False, False,\n",
       "                    False, False, False, False, False, False, False, False,\n",
       "                    False, False, False, False, False, False, False, False,\n",
       "                    False, False, False, False, False, False, False, False,\n",
       "                    False, False, False, False, False, False, False, False,\n",
       "                    False, False, False, False],\n",
       "        fill_value='?',\n",
       "             dtype=object),\n",
       " 'param_kernel': masked_array(data=['linear', 'sigmoid', 'rbf', 'linear', 'sigmoid', 'rbf',\n",
       "                    'linear', 'sigmoid', 'rbf', 'linear', 'sigmoid', 'rbf',\n",
       "                    'linear', 'sigmoid', 'rbf', 'linear', 'sigmoid', 'rbf',\n",
       "                    'linear', 'sigmoid', 'rbf', 'linear', 'sigmoid', 'rbf',\n",
       "                    'linear', 'sigmoid', 'rbf', 'linear', 'sigmoid', 'rbf',\n",
       "                    'linear', 'sigmoid', 'rbf', 'linear', 'sigmoid', 'rbf',\n",
       "                    'linear', 'sigmoid', 'rbf', 'linear', 'sigmoid', 'rbf',\n",
       "                    'linear', 'sigmoid', 'rbf', 'linear', 'sigmoid', 'rbf',\n",
       "                    'linear', 'sigmoid', 'rbf', 'linear', 'sigmoid', 'rbf',\n",
       "                    'linear', 'sigmoid', 'rbf', 'linear', 'sigmoid', 'rbf'],\n",
       "              mask=[False, False, False, False, False, False, False, False,\n",
       "                    False, False, False, False, False, False, False, False,\n",
       "                    False, False, False, False, False, False, False, False,\n",
       "                    False, False, False, False, False, False, False, False,\n",
       "                    False, False, False, False, False, False, False, False,\n",
       "                    False, False, False, False, False, False, False, False,\n",
       "                    False, False, False, False, False, False, False, False,\n",
       "                    False, False, False, False],\n",
       "        fill_value='?',\n",
       "             dtype=object),\n",
       " 'params': [{'C': 0.01, 'gamma': 'scale', 'kernel': 'linear'},\n",
       "  {'C': 0.01, 'gamma': 'scale', 'kernel': 'sigmoid'},\n",
       "  {'C': 0.01, 'gamma': 'scale', 'kernel': 'rbf'},\n",
       "  {'C': 0.01, 'gamma': 'auto', 'kernel': 'linear'},\n",
       "  {'C': 0.01, 'gamma': 'auto', 'kernel': 'sigmoid'},\n",
       "  {'C': 0.01, 'gamma': 'auto', 'kernel': 'rbf'},\n",
       "  {'C': 0.05, 'gamma': 'scale', 'kernel': 'linear'},\n",
       "  {'C': 0.05, 'gamma': 'scale', 'kernel': 'sigmoid'},\n",
       "  {'C': 0.05, 'gamma': 'scale', 'kernel': 'rbf'},\n",
       "  {'C': 0.05, 'gamma': 'auto', 'kernel': 'linear'},\n",
       "  {'C': 0.05, 'gamma': 'auto', 'kernel': 'sigmoid'},\n",
       "  {'C': 0.05, 'gamma': 'auto', 'kernel': 'rbf'},\n",
       "  {'C': 0.1, 'gamma': 'scale', 'kernel': 'linear'},\n",
       "  {'C': 0.1, 'gamma': 'scale', 'kernel': 'sigmoid'},\n",
       "  {'C': 0.1, 'gamma': 'scale', 'kernel': 'rbf'},\n",
       "  {'C': 0.1, 'gamma': 'auto', 'kernel': 'linear'},\n",
       "  {'C': 0.1, 'gamma': 'auto', 'kernel': 'sigmoid'},\n",
       "  {'C': 0.1, 'gamma': 'auto', 'kernel': 'rbf'},\n",
       "  {'C': 0.25, 'gamma': 'scale', 'kernel': 'linear'},\n",
       "  {'C': 0.25, 'gamma': 'scale', 'kernel': 'sigmoid'},\n",
       "  {'C': 0.25, 'gamma': 'scale', 'kernel': 'rbf'},\n",
       "  {'C': 0.25, 'gamma': 'auto', 'kernel': 'linear'},\n",
       "  {'C': 0.25, 'gamma': 'auto', 'kernel': 'sigmoid'},\n",
       "  {'C': 0.25, 'gamma': 'auto', 'kernel': 'rbf'},\n",
       "  {'C': 1, 'gamma': 'scale', 'kernel': 'linear'},\n",
       "  {'C': 1, 'gamma': 'scale', 'kernel': 'sigmoid'},\n",
       "  {'C': 1, 'gamma': 'scale', 'kernel': 'rbf'},\n",
       "  {'C': 1, 'gamma': 'auto', 'kernel': 'linear'},\n",
       "  {'C': 1, 'gamma': 'auto', 'kernel': 'sigmoid'},\n",
       "  {'C': 1, 'gamma': 'auto', 'kernel': 'rbf'},\n",
       "  {'C': 2.5, 'gamma': 'scale', 'kernel': 'linear'},\n",
       "  {'C': 2.5, 'gamma': 'scale', 'kernel': 'sigmoid'},\n",
       "  {'C': 2.5, 'gamma': 'scale', 'kernel': 'rbf'},\n",
       "  {'C': 2.5, 'gamma': 'auto', 'kernel': 'linear'},\n",
       "  {'C': 2.5, 'gamma': 'auto', 'kernel': 'sigmoid'},\n",
       "  {'C': 2.5, 'gamma': 'auto', 'kernel': 'rbf'},\n",
       "  {'C': 5, 'gamma': 'scale', 'kernel': 'linear'},\n",
       "  {'C': 5, 'gamma': 'scale', 'kernel': 'sigmoid'},\n",
       "  {'C': 5, 'gamma': 'scale', 'kernel': 'rbf'},\n",
       "  {'C': 5, 'gamma': 'auto', 'kernel': 'linear'},\n",
       "  {'C': 5, 'gamma': 'auto', 'kernel': 'sigmoid'},\n",
       "  {'C': 5, 'gamma': 'auto', 'kernel': 'rbf'},\n",
       "  {'C': 10, 'gamma': 'scale', 'kernel': 'linear'},\n",
       "  {'C': 10, 'gamma': 'scale', 'kernel': 'sigmoid'},\n",
       "  {'C': 10, 'gamma': 'scale', 'kernel': 'rbf'},\n",
       "  {'C': 10, 'gamma': 'auto', 'kernel': 'linear'},\n",
       "  {'C': 10, 'gamma': 'auto', 'kernel': 'sigmoid'},\n",
       "  {'C': 10, 'gamma': 'auto', 'kernel': 'rbf'},\n",
       "  {'C': 25, 'gamma': 'scale', 'kernel': 'linear'},\n",
       "  {'C': 25, 'gamma': 'scale', 'kernel': 'sigmoid'},\n",
       "  {'C': 25, 'gamma': 'scale', 'kernel': 'rbf'},\n",
       "  {'C': 25, 'gamma': 'auto', 'kernel': 'linear'},\n",
       "  {'C': 25, 'gamma': 'auto', 'kernel': 'sigmoid'},\n",
       "  {'C': 25, 'gamma': 'auto', 'kernel': 'rbf'},\n",
       "  {'C': 100, 'gamma': 'scale', 'kernel': 'linear'},\n",
       "  {'C': 100, 'gamma': 'scale', 'kernel': 'sigmoid'},\n",
       "  {'C': 100, 'gamma': 'scale', 'kernel': 'rbf'},\n",
       "  {'C': 100, 'gamma': 'auto', 'kernel': 'linear'},\n",
       "  {'C': 100, 'gamma': 'auto', 'kernel': 'sigmoid'},\n",
       "  {'C': 100, 'gamma': 'auto', 'kernel': 'rbf'}],\n",
       " 'split0_test_score': array([0.55629139, 0.55629139, 0.55629139, 0.55629139, 0.55629139,\n",
       "        0.55629139, 0.55629139, 0.50772627, 0.55629139, 0.55629139,\n",
       "        0.55629139, 0.55629139, 0.55629139, 0.50331126, 0.55629139,\n",
       "        0.55629139, 0.55629139, 0.55629139, 0.55629139, 0.50993377,\n",
       "        0.54746137, 0.55629139, 0.55629139, 0.55629139, 0.55629139,\n",
       "        0.50772627, 0.54966887, 0.55629139, 0.55629139, 0.55629139,\n",
       "        0.55629139, 0.50772627, 0.54966887, 0.55629139, 0.55629139,\n",
       "        0.55629139, 0.55629139, 0.50993377, 0.54966887, 0.55629139,\n",
       "        0.55629139, 0.55629139, 0.55629139, 0.50993377, 0.54966887,\n",
       "        0.55629139, 0.55629139, 0.55629139, 0.55629139, 0.50772627,\n",
       "        0.54746137, 0.55629139, 0.55629139, 0.55629139, 0.55629139,\n",
       "        0.50772627, 0.54525386, 0.55629139, 0.55629139, 0.55629139]),\n",
       " 'split1_test_score': array([0.55530973, 0.55530973, 0.55530973, 0.55530973, 0.55530973,\n",
       "        0.55530973, 0.55530973, 0.52433628, 0.55530973, 0.55530973,\n",
       "        0.55530973, 0.55530973, 0.55530973, 0.5199115 , 0.55530973,\n",
       "        0.55530973, 0.55530973, 0.55530973, 0.55530973, 0.48451327,\n",
       "        0.55752212, 0.55530973, 0.55530973, 0.55530973, 0.55530973,\n",
       "        0.48672566, 0.55309735, 0.55530973, 0.55530973, 0.55530973,\n",
       "        0.55530973, 0.48672566, 0.55309735, 0.55530973, 0.55530973,\n",
       "        0.55530973, 0.55530973, 0.48451327, 0.55309735, 0.55530973,\n",
       "        0.55530973, 0.55530973, 0.55530973, 0.48451327, 0.55309735,\n",
       "        0.55530973, 0.55530973, 0.55530973, 0.55530973, 0.48451327,\n",
       "        0.55088496, 0.55530973, 0.55530973, 0.55530973, 0.55530973,\n",
       "        0.48451327, 0.54867257, 0.55530973, 0.55530973, 0.55530973]),\n",
       " 'split2_test_score': array([0.55530973, 0.55530973, 0.55530973, 0.55530973, 0.55530973,\n",
       "        0.55530973, 0.55530973, 0.49115044, 0.55530973, 0.55530973,\n",
       "        0.55530973, 0.55530973, 0.55530973, 0.5       , 0.55530973,\n",
       "        0.55530973, 0.55530973, 0.55530973, 0.55530973, 0.50442478,\n",
       "        0.55530973, 0.55530973, 0.55530973, 0.55530973, 0.55530973,\n",
       "        0.5       , 0.55309735, 0.55530973, 0.55530973, 0.55530973,\n",
       "        0.55530973, 0.50221239, 0.55530973, 0.55530973, 0.55530973,\n",
       "        0.55530973, 0.55530973, 0.50221239, 0.55530973, 0.55530973,\n",
       "        0.55530973, 0.55530973, 0.55530973, 0.50221239, 0.55530973,\n",
       "        0.55530973, 0.55530973, 0.55530973, 0.55530973, 0.50221239,\n",
       "        0.55530973, 0.55530973, 0.55530973, 0.55530973, 0.55530973,\n",
       "        0.50442478, 0.55752212, 0.55530973, 0.55530973, 0.55530973]),\n",
       " 'split3_test_score': array([0.55530973, 0.55530973, 0.55530973, 0.55530973, 0.55530973,\n",
       "        0.55530973, 0.55530973, 0.49336283, 0.55530973, 0.55530973,\n",
       "        0.55530973, 0.55530973, 0.55530973, 0.5       , 0.55530973,\n",
       "        0.55530973, 0.55530973, 0.55530973, 0.55530973, 0.48672566,\n",
       "        0.55309735, 0.55530973, 0.55530973, 0.55530973, 0.55530973,\n",
       "        0.48230088, 0.54867257, 0.55530973, 0.55530973, 0.55530973,\n",
       "        0.55530973, 0.48230088, 0.54867257, 0.55530973, 0.55530973,\n",
       "        0.55530973, 0.55530973, 0.48230088, 0.54867257, 0.55530973,\n",
       "        0.55530973, 0.55530973, 0.55530973, 0.4800885 , 0.54867257,\n",
       "        0.55530973, 0.55530973, 0.55530973, 0.55530973, 0.4800885 ,\n",
       "        0.54867257, 0.55530973, 0.55530973, 0.55530973, 0.55530973,\n",
       "        0.4800885 , 0.54424779, 0.55530973, 0.55530973, 0.55530973]),\n",
       " 'split4_test_score': array([0.55752212, 0.56637168, 0.55752212, 0.55752212, 0.55752212,\n",
       "        0.55752212, 0.55752212, 0.53318584, 0.55752212, 0.55752212,\n",
       "        0.55752212, 0.55752212, 0.55752212, 0.53097345, 0.55752212,\n",
       "        0.55752212, 0.55752212, 0.55752212, 0.55752212, 0.53097345,\n",
       "        0.55752212, 0.55752212, 0.55752212, 0.55752212, 0.55752212,\n",
       "        0.53097345, 0.55752212, 0.55752212, 0.55752212, 0.55752212,\n",
       "        0.55752212, 0.53539823, 0.55530973, 0.55752212, 0.55752212,\n",
       "        0.55752212, 0.55752212, 0.53539823, 0.55530973, 0.55752212,\n",
       "        0.55752212, 0.55752212, 0.55752212, 0.53539823, 0.5619469 ,\n",
       "        0.55752212, 0.55752212, 0.55752212, 0.55752212, 0.53539823,\n",
       "        0.5619469 , 0.55752212, 0.55752212, 0.55752212, 0.55752212,\n",
       "        0.53539823, 0.57743363, 0.55752212, 0.55752212, 0.55752212]),\n",
       " 'mean_test_score': array([0.55594854, 0.55771846, 0.55594854, 0.55594854, 0.55594854,\n",
       "        0.55594854, 0.55594854, 0.50995233, 0.55594854, 0.55594854,\n",
       "        0.55594854, 0.55594854, 0.55594854, 0.51083924, 0.55594854,\n",
       "        0.55594854, 0.55594854, 0.55594854, 0.55594854, 0.50331419,\n",
       "        0.55418254, 0.55594854, 0.55594854, 0.55594854, 0.55594854,\n",
       "        0.50154525, 0.55241165, 0.55594854, 0.55594854, 0.55594854,\n",
       "        0.55594854, 0.50287269, 0.55241165, 0.55594854, 0.55594854,\n",
       "        0.55594854, 0.55594854, 0.50287171, 0.55241165, 0.55594854,\n",
       "        0.55594854, 0.55594854, 0.55594854, 0.50242923, 0.55373908,\n",
       "        0.55594854, 0.55594854, 0.55594854, 0.55594854, 0.50198773,\n",
       "        0.55285511, 0.55594854, 0.55594854, 0.55594854, 0.55594854,\n",
       "        0.50243021, 0.55462599, 0.55594854, 0.55594854, 0.55594854]),\n",
       " 'std_test_score': array([0.00087383, 0.00434329, 0.00087383, 0.00087383, 0.00087383,\n",
       "        0.00087383, 0.00087383, 0.01661549, 0.00087383, 0.00087383,\n",
       "        0.00087383, 0.00087383, 0.00087383, 0.01248472, 0.00087383,\n",
       "        0.00087383, 0.00087383, 0.00087383, 0.00087383, 0.01696314,\n",
       "        0.00373973, 0.00087383, 0.00087383, 0.00087383, 0.00087383,\n",
       "        0.01730074, 0.00311644, 0.00087383, 0.00087383, 0.00087383,\n",
       "        0.00087383, 0.01879271, 0.00278466, 0.00087383, 0.00087383,\n",
       "        0.00087383, 0.00087383, 0.01933118, 0.00278466, 0.00087383,\n",
       "        0.00087383, 0.00087383, 0.00087383, 0.01981621, 0.00474306,\n",
       "        0.00087383, 0.00087383, 0.00087383, 0.00087383, 0.01966813,\n",
       "        0.00527548, 0.00087383, 0.00087383, 0.00087383, 0.00087383,\n",
       "        0.01969307, 0.01232528, 0.00087383, 0.00087383, 0.00087383]),\n",
       " 'rank_test_score': array([ 2,  1,  2,  2,  2,  2,  2, 53,  2,  2,  2,  2,  2, 52,  2,  2,  2,\n",
       "         2,  2, 54, 46,  2,  2,  2,  2, 60, 51,  2,  2,  2,  2, 55, 49,  2,\n",
       "         2,  2,  2, 56, 49,  2,  2,  2,  2, 58, 47,  2,  2,  2,  2, 59, 48,\n",
       "         2,  2,  2,  2, 57, 45,  2,  2,  2], dtype=int32)}"
      ]
     },
     "execution_count": 7,
     "metadata": {},
     "output_type": "execute_result"
    }
   ],
   "source": [
    "param_fits.cv_results_"
   ]
  },
  {
   "cell_type": "code",
   "execution_count": 20,
   "id": "d8a2202b-e158-41f4-aee1-2bb968db6a6e",
   "metadata": {},
   "outputs": [
    {
     "data": {
      "text/plain": [
       "[<matplotlib.lines.Line2D at 0x7ff3259bb2e0>]"
      ]
     },
     "execution_count": 20,
     "metadata": {},
     "output_type": "execute_result"
    },
    {
     "data": {
      "image/png": "[encoded data removed]",
      "text/plain": [
       "<Figure size 432x288 with 1 Axes>"
      ]
     },
     "metadata": {
      "needs_background": "light"
     },
     "output_type": "display_data"
    }
   ],
   "source": [
    "import matplotlib.pyplot as plt\n",
    "plt.plot(X_train)"
   ]
  },
  {
   "cell_type": "code",
   "execution_count": 31,
   "id": "ada3c0d7-d775-4ff9-8785-3534e61b09b0",
   "metadata": {},
   "outputs": [
    {
     "data": {
      "text/plain": [
       "array([0, 0, 1, ..., 0, 0, 0])"
      ]
     },
     "execution_count": 31,
     "metadata": {},
     "output_type": "execute_result"
    }
   ],
   "source": [
    "y_train"
   ]
  },
  {
   "cell_type": "code",
   "execution_count": 35,
   "id": "5d50e91b-2976-4965-a696-48b61154efa9",
   "metadata": {},
   "outputs": [
    {
     "data": {
      "text/plain": [
       "array([[-1.16592993e-08]])"
      ]
     },
     "execution_count": 35,
     "metadata": {},
     "output_type": "execute_result"
    }
   ],
   "source": [
    "model.coef_"
   ]
  },
  {
   "cell_type": "code",
   "execution_count": 51,
   "id": "40c11e1f-f10f-48c3-bb29-3086a59fab5b",
   "metadata": {},
   "outputs": [],
   "source": [
    "import optunity\n",
    "import optunity.metrics\n",
    "import sklearn.svm\n",
    "\n",
    "# score function: twice iterated 10-fold cross-validated accuracy\n",
    "@optunity.cross_validated(x=X_train, y=y_train, num_folds=10, num_iter=2)\n",
    "def svm_auc(x_train, y_train, x_test, y_test, logC, logGamma):\n",
    "    model = sklearn.svm.SVC(C=10 ** logC, gamma=10 ** logGamma).fit(x_train, y_train)\n",
    "    decision_values = model.decision_function(x_test)\n",
    "    return optunity.metrics.roc_auc(y_test, decision_values)\n",
    "\n",
    "# perform tuning\n",
    "hps, _, _ = optunity.maximize(svm_auc, num_evals=200, logC=[-5, 2], logGamma=[-5, 1])"
   ]
  },
  {
   "cell_type": "code",
   "execution_count": 52,
   "id": "9174ca5e-bc8f-4761-bc58-3a830bef78c4",
   "metadata": {},
   "outputs": [
    {
     "data": {
      "text/plain": [
       "{'logC': 1.6967953792114276, 'logGamma': -1.4774605042184448}"
      ]
     },
     "execution_count": 52,
     "metadata": {},
     "output_type": "execute_result"
    }
   ],
   "source": [
    "hps"
   ]
  },
  {
   "cell_type": "code",
   "execution_count": 55,
   "id": "f9e9d9e5-184c-498b-b446-1b52855a4514",
   "metadata": {},
   "outputs": [
    {
     "name": "stdout",
     "output_type": "stream",
     "text": [
      "5.456433543729151\n",
      "0.22821650797707496\n"
     ]
    }
   ],
   "source": [
    "import math\n",
    "\n",
    "print(math.exp(hps['logC']))\n",
    "print(math.exp(hps['logGamma']))"
   ]
  },
  {
   "cell_type": "code",
   "execution_count": 65,
   "id": "e0247375-87f9-4e6c-bf3e-1486c71fc0c7",
   "metadata": {},
   "outputs": [
    {
     "data": {
      "text/plain": [
       "Date\n",
       "2012-03-02   -0.003054\n",
       "2012-03-05   -0.004086\n",
       "2012-03-06   -0.014733\n",
       "2012-03-07    0.006952\n",
       "2012-03-08    0.009900\n",
       "                ...   \n",
       "2021-02-22   -0.007722\n",
       "2021-02-23    0.001214\n",
       "2021-02-24    0.010959\n",
       "2021-02-25   -0.024391\n",
       "2021-02-26   -0.005166\n",
       "Name: Adj Close, Length: 2262, dtype: float64"
      ]
     },
     "execution_count": 65,
     "metadata": {},
     "output_type": "execute_result"
    }
   ],
   "source": [
    "df_ret_train"
   ]
  },
  {
   "cell_type": "code",
   "execution_count": 66,
   "id": "f001dfdf-c74a-4798-a9c3-ed3a8d30e33c",
   "metadata": {},
   "outputs": [
    {
     "data": {
      "text/plain": [
       "array([[-0.00305431],\n",
       "       [-0.00408647],\n",
       "       [-0.01473324],\n",
       "       ...,\n",
       "       [ 0.00121367],\n",
       "       [ 0.0109591 ],\n",
       "       [-0.02439077]])"
      ]
     },
     "execution_count": 66,
     "metadata": {},
     "output_type": "execute_result"
    }
   ],
   "source": [
    "df_ret_train.values.reshape(-1, 1)[:-1]"
   ]
  },
  {
   "cell_type": "code",
   "execution_count": 69,
   "id": "983fb8c3-e9e6-4024-9e61-90ccbf33e698",
   "metadata": {},
   "outputs": [
    {
     "data": {
      "text/plain": [
       "array([-0.00408647, -0.01473324,  0.00695165, ...,  0.0109591 ,\n",
       "       -0.02439077, -0.00516598])"
      ]
     },
     "execution_count": 69,
     "metadata": {},
     "output_type": "execute_result"
    }
   ],
   "source": [
    "df_ret_train.values[1:]"
   ]
  },
  {
   "cell_type": "code",
   "execution_count": 3,
   "id": "dc5253ce-a694-477f-9565-df209ec15f77",
   "metadata": {},
   "outputs": [],
   "source": [
    "from sklearn.linear_model import LogisticRegression\n",
    "model = LogisticRegression()\n",
    "model.fit(X_train, y_train)\n",
    "score = model.coef_[0]\n",
    "\n",
    "y_pred_train = model.predict_proba(X_train)"
   ]
  },
  {
   "cell_type": "code",
   "execution_count": 72,
   "id": "de94929e-8cce-42be-b85b-0dc64aa86a0f",
   "metadata": {},
   "outputs": [
    {
     "data": {
      "text/plain": [
       "array([[7.57357025e-05]])"
      ]
     },
     "execution_count": 72,
     "metadata": {},
     "output_type": "execute_result"
    }
   ],
   "source": [
    "model.coef_"
   ]
  },
  {
   "cell_type": "code",
   "execution_count": 4,
   "id": "32c6ef00-9568-48d0-9497-2d0445cbe0a1",
   "metadata": {},
   "outputs": [
    {
     "data": {
      "text/plain": [
       "array([[0.44353526, 0.55646474],\n",
       "       [0.44338678, 0.55661322],\n",
       "       [0.44185582, 0.55814418],\n",
       "       ...,\n",
       "       [0.44414933, 0.55585067],\n",
       "       [0.44555211, 0.55444789],\n",
       "       [0.44046805, 0.55953195]])"
      ]
     },
     "execution_count": 4,
     "metadata": {},
     "output_type": "execute_result"
    }
   ],
   "source": [
    "y_pred_train"
   ]
  },
  {
   "cell_type": "code",
   "execution_count": 76,
   "id": "a363b15d-7e50-4bd6-863f-0cc91effd89b",
   "metadata": {},
   "outputs": [
    {
     "data": {
      "text/plain": [
       "1.0"
      ]
     },
     "execution_count": 76,
     "metadata": {},
     "output_type": "execute_result"
    }
   ],
   "source": [
    "y_pred_train.mean()"
   ]
  },
  {
   "cell_type": "code",
   "execution_count": 12,
   "id": "7542f0dc-acf1-44ce-9c1b-a6c51b557cb0",
   "metadata": {},
   "outputs": [],
   "source": [
    "# sklearn: logistic regression\n",
    "from sklearn.linear_model import LogisticRegression\n",
    "model = LogisticRegression()\n",
    "model.fit(X_train, y_train)\n",
    "score = model.coef_[0]"
   ]
  },
  {
   "cell_type": "code",
   "execution_count": null,
   "id": "1151adc3-fdf7-4032-bf42-2f089669cad0",
   "metadata": {},
   "outputs": [],
   "source": []
  }
 ],
 "metadata": {
  "kernelspec": {
   "display_name": "Python 3 (ipykernel)",
   "language": "python",
   "name": "python3"
  },
  "language_info": {
   "codemirror_mode": {
    "name": "ipython",
    "version": 3
   },
   "file_extension": ".py",
   "mimetype": "text/x-python",
   "name": "python",
   "nbconvert_exporter": "python",
   "pygments_lexer": "ipython3",
   "version": "3.9.6"
  }
 },
 "nbformat": 4,
 "nbformat_minor": 5
}
